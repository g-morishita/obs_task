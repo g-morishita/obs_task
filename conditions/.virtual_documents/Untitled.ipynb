import numpy as np
import pandas as pd
from scipy.special import softmax


class q_learning:
    def __init__(self, alpha, beta, init_q):
        if (alpha < 0) or (alpha > 1):
            raise ValueError(f"alpha is invalid {alpha}")
        self.alpha = alpha

        if beta < 0:
            raise ValueError(f"beta is invalid {beta}")
        self.beta = beta
 
        self.init_q = np.array(init_q).copy()
        self.q = np.array(init_q)

    def reset(self):
        self.q = self.init_q.copy()

    def learn(self, c, r):
        self.q[c] = self.q[c] + self.alpha * (r - self.q[c])

    def make_choice(self):
        p = softmax(self.beta * self.q)
        c = np.random.choice(len(self.q), p=p)
        return c


reward_probs = [.25, .5, .75]
init_q = [.5, .5, .5]
alpha = .3
high_exp = 1.5
low_exp = 20.0
n_trials = 30


low_explorative = q_learning(alpha, low_exp, init_q)
high_explorative = q_learning(alpha, high_exp, init_q)


choices = []
rewards = []
low_explorative.reset()
for t in range(n_trials):
    c = low_explorative.make_choice()
    r = int(np.random.uniform() < reward_probs[c])
    model.learn(c, r)
    
    # Save history
    choices.append(c)
    rewards.append(r)


obs_random_order = [','.join(np.random.choice(np.arange(3), size=3, replace=False).astype(str).tolist()) for _ in range(n_trials)]
self_random_order = [','.join(np.random.choice(np.arange(3), size=3, replace=False).astype(str).tolist()) for _ in range(n_trials)]


trial_for_low_exp = {"trial": np.arange(n_trials), "partner_choice": choices, "partner_rewards": rewards, "obs_randomized_img_order": obs_random_order, "self_randomized_img_order": self_random_order}
trial_for_low_exp = pd.DataFrame(trial_for_low_exp)


trial_for_low_exp.to_csv("trial_low_exp.csv", index=False)


import numpy as np
import pandas as pd
import os

def randomize_arm_images(n_blocks, n_choices=3):
    path = "../choices/"
    return np.array([os.path.join(path, f"choice{idx}.png") for idx in np.random.choice(54, size=n_choices * n_blocks, replace=True)]).reshape(n_choices, -1).tolist()


def randomize_trial_path(n_blocks):
    candidate = [f"trial_high_exp_{idx}.csv" for idx in np.arange(n_block // 2)] + [f"trial_low_exp_{idx}.csv" for idx in np.arange(n_block // 2)]
    return np.random.choice(candidate, size=n_block, replace=False)


if __name__ == "__main__":
    np.random.seed(12345)
    n_block = 2
    if n_block % 2 != 0:
        raise ValueError("n_block must be even because there are two conditions")

    randomized_img_idx = randomize_arm_images(n_block)
    trial_path = randomize_trial_path(n_block)
    # block info for male participants
    male_face_images = ["../faces/male/{idx + 1}.png" for idx in range(n_block)]
    block_for_male = {"block": list(range(n_block)), "arm_img_0": randomized_img_idx[0], "arm_img_1": randomized_img_idx[1], "arm_img_2": randomized_img_idx[2], "partner_face_image": male_face_images, "trial_path": trial_path}
    block_for_male = pd.DataFrame(block_for_male)
    block_for_male.to_csv("block_for_male.csv", index=False)


    # block info for male participants
    female_face_images = ["../faces/female/{idx + 1}.png" for idx in range(n_block)]
    block_for_female = {"block": list(range(n_block)), "arm_img_0": randomized_img_idx[0], "arm_img_1": randomized_img_idx[1], "arm_img_2": randomized_img_idx[2], "partner_face_image": female_face_images, "trial_path": trial_path}
    block_for_female = pd.DataFrame(block_for_female)
    block_for_female.to_csv("block_for_male.csv", index=False)


    



a = randomize_arm_images(2)


a[2]



